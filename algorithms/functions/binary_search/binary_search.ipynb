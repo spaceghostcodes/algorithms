{
 "cells": [
  {
   "cell_type": "markdown",
   "metadata": {},
   "source": [
    "# Binary Search"
   ]
  },
  {
   "cell_type": "markdown",
   "metadata": {},
   "source": [
    "\"Binary Search\" is a sorting algorithm that makes more efficient finding an item in a given list."
   ]
  },
  {
   "cell_type": "markdown",
   "metadata": {},
   "source": [
    "## Implementation\n",
    "This is the implementation of a binary search function from [Grokking Algorithms](https://www.manning.com/books/grokking-algorithms) book.\n",
    "\n",
    "```python\n",
    "def binary_search(list, item):\n",
    "\tlow = 0\n",
    "\thigh = len(list) - 1\n",
    "\t\n",
    "\twhile low <= high:\n",
    "\t\tmid = (low + high)\n",
    "\t\tguess = list[mid]\n",
    "\t\t\n",
    "\t\tif guess == item:\n",
    "\t\t\treturn mid\n",
    "\t\t\n",
    "\t\tif guess > item:\n",
    "\t\t\thigh = mid - 1\n",
    "\n",
    "\t\telse:\n",
    "\t\t\tlow = mid + 1\n",
    "\n",
    "\treturn None\n",
    "```\n",
    "\n",
    "At the beginnig of the function, variables `low` and `high` are defined.\n",
    "Each variable are intended to store the first and the very last element in the given list.\n",
    "\n",
    "Then a `while` loop will run until the value of `high` turns lower than `low`'s value.\n",
    "\n",
    "`while`'s loop task is to find the middle of the given list and evaluate the value of the item at the current index, theres 3 possible scenarios when the algorithm gets to this step.\n",
    "\n",
    "1. The current value is the target value\n",
    "If this is the case, then the function will return the index of the element in the list and the loop will exit successfully.\n",
    "\n",
    "2. The current value is higher than the target value\n",
    "Discards items above the current value and set a new `high` value.\n",
    "This way the next loop iteration will attempt to find the target value in a shorted version of the original list.\n",
    "\n",
    "3. The current value is lower than the target value\n",
    "Discards items below the current value and set a new `low` value."
   ]
  },
  {
   "cell_type": "code",
   "execution_count": 2,
   "metadata": {},
   "outputs": [
    {
     "name": "stdout",
     "output_type": "stream",
     "text": [
      "7\n"
     ]
    }
   ],
   "source": [
    "from binary_search import binary_search\n",
    "\n",
    "# running `binary_search` with a sorted array\n",
    "\n",
    "items = [1, 3, 6, 7, 9, 10, 12, 17, 25, 29, 32, 36, 38, 41]\n",
    "\n",
    "index = binary_search(items, 17)\n",
    "print(index)"
   ]
  }
 ],
 "metadata": {
  "kernelspec": {
   "display_name": "Python 3",
   "language": "python",
   "name": "python3"
  },
  "language_info": {
   "codemirror_mode": {
    "name": "ipython",
    "version": 3
   },
   "file_extension": ".py",
   "mimetype": "text/x-python",
   "name": "python",
   "nbconvert_exporter": "python",
   "pygments_lexer": "ipython3",
   "version": "3.7.4"
  }
 },
 "nbformat": 4,
 "nbformat_minor": 2
}
